{
 "cells": [
  {
   "cell_type": "markdown",
   "metadata": {},
   "source": [
    "## Comfort Delgro"
   ]
  },
  {
   "cell_type": "code",
   "execution_count": 2,
   "metadata": {},
   "outputs": [],
   "source": [
    "import pandas as pd\n",
    "import numpy as np\n",
    "import matplotlib.pyplot as plt\n",
    "import seaborn as sns\n",
    "import altair as alt\n"
   ]
  },
  {
   "cell_type": "code",
   "execution_count": 3,
   "metadata": {
    "scrolled": true
   },
   "outputs": [],
   "source": [
    "# data = pd.ExcelFile(\"./data/10 Years Financial Data.xlsx\")\n",
    "# data = pd.read_excel(\"./data/10 Years Financial Data - Copy.csv\")\n",
    "data= pd.read_csv('./data/10 Years Financial Data - Copy.csv', sep = ',')\n",
    "df = data"
   ]
  },
  {
   "cell_type": "code",
   "execution_count": 4,
   "metadata": {},
   "outputs": [],
   "source": [
    "#This is the target variable\n",
    "# data['Depreciation'].value_counts()\n",
    "\n",
    "# new_header = data.iloc[0] \n",
    "# # take the rest of your data minus the header row\n",
    "# df = data[1:] \n",
    "# # set the header row as the df header\n",
    "# df.columns = new_header \n",
    "\n",
    "\n",
    "# df_t = data.T\n",
    "# new_header = df_t.iloc[0] \n",
    "# # take the rest of your data minus the header row\n",
    "# df = df_t[1:] \n",
    "# # set the header row as the df header\n",
    "# df.columns = new_header \n"
   ]
  },
  {
   "cell_type": "markdown",
   "metadata": {},
   "source": [
    "## EDA"
   ]
  },
  {
   "cell_type": "code",
   "execution_count": 5,
   "metadata": {},
   "outputs": [
    {
     "name": "stdout",
     "output_type": "stream",
     "text": [
      "   Year  [+]_Revenue  [+] Cost of Revenue  [+] Gross Profit  \\\n",
      "0  2003    1846000.0                  0.0               0.0   \n",
      "1  2004    2097800.0                  0.0               0.0   \n",
      "2  2005    2294400.0                  0.0               0.0   \n",
      "3  2006    2793100.0                  0.0               0.0   \n",
      "4  2007    3016600.0                  0.0               0.0   \n",
      "\n",
      "   [+] Share Of Profit Of Associates  \\\n",
      "0                            -5900.0   \n",
      "1                              500.0   \n",
      "2                             1900.0   \n",
      "3                             3300.0   \n",
      "4                             5000.0   \n",
      "\n",
      "   [+] Profit Before Tax (Include Exceptional Items)  [+] Profit After Tax  \\\n",
      "0                                           206200.0              155800.0   \n",
      "1                                           320500.0              245300.0   \n",
      "2                                           300900.0              239100.0   \n",
      "3                                           360800.0              289800.0   \n",
      "4                                           334500.0              273300.0   \n",
      "\n",
      "   [+] Net Earnings  [+] Profit Attributable To Shareholders  \\\n",
      "0          133900.0                                 133900.0   \n",
      "1          200600.0                                 200600.0   \n",
      "2          201900.0                                 201900.0   \n",
      "3          244600.0                                 244600.0   \n",
      "4          223000.0                                 223000.0   \n",
      "\n",
      "   [+] Shareholders' Equity  [+] Total Equity, MI & Liabilities  \\\n",
      "0                 1264100.0                           2670700.0   \n",
      "1                 1302900.0                           2778500.0   \n",
      "2                 1345000.0                           3058400.0   \n",
      "3                 1441300.0                           3084600.0   \n",
      "4                 1482500.0                           3316100.0   \n",
      "\n",
      "   [+] Total Assets  [+] Operating Cash Flows Before Working Capital Changes  \\\n",
      "0         2670700.0                                                0.0         \n",
      "1         2778500.0                                                0.0         \n",
      "2         3058400.0                                                0.0         \n",
      "3         3084600.0                                                0.0         \n",
      "4         3316100.0                                                0.0         \n",
      "\n",
      "   [+] Cash Generated From / (Used In) Operations  \\\n",
      "0                                             0.0   \n",
      "1                                             0.0   \n",
      "2                                             0.0   \n",
      "3                                             0.0   \n",
      "4                                             0.0   \n",
      "\n",
      "   [+] Net Cash Generated From / (Used In) Operating Activities  \\\n",
      "0                                                0.0              \n",
      "1                                                0.0              \n",
      "2                                                0.0              \n",
      "3                                                0.0              \n",
      "4                                                0.0              \n",
      "\n",
      "   [+] Net Changes In Cash And Cash Equivalents  \\\n",
      "0                                           0.0   \n",
      "1                                           0.0   \n",
      "2                                           0.0   \n",
      "3                                           0.0   \n",
      "4                                           0.0   \n",
      "\n",
      "   [+] Cash And Cash Equivalents At End  Unnamed: 17  \n",
      "0                                   0.0          NaN  \n",
      "1                                   0.0          NaN  \n",
      "2                                   0.0          NaN  \n",
      "3                                   0.0          NaN  \n",
      "4                                   0.0          NaN  \n"
     ]
    }
   ],
   "source": [
    "\n",
    "print(data.head())\n",
    "\n",
    "# print(df_t.info())"
   ]
  },
  {
   "cell_type": "code",
   "execution_count": 6,
   "metadata": {},
   "outputs": [
    {
     "name": "stdout",
     "output_type": "stream",
     "text": [
      "['Year', '[+]_Revenue', '[+]\\xa0Cost of Revenue', '[+]\\xa0Gross Profit', '[+]\\xa0Share Of Profit Of Associates', '[+]\\xa0Profit Before Tax (Include Exceptional Items)', '[+]\\xa0Profit After Tax', '[+]\\xa0Net Earnings', '[+]\\xa0Profit Attributable To Shareholders', \"[+]\\xa0Shareholders' Equity\", '[+]\\xa0Total Equity, MI & Liabilities', '[+]\\xa0Total Assets', '[+]\\xa0Operating Cash Flows Before Working Capital Changes', '[+]\\xa0Cash Generated From / (Used In) Operations', '[+]\\xa0Net Cash Generated From / (Used In) Operating Activities', '[+]\\xa0Net Changes In Cash And Cash Equivalents', '[+]\\xa0Cash And Cash Equivalents At End', 'Unnamed: 17']\n"
     ]
    }
   ],
   "source": [
    "# df.columns = df.columns.str.strip().str.replace(' ', '_')\n",
    "\n",
    "# df.keys()\n",
    "print(df.columns.tolist())"
   ]
  },
  {
   "cell_type": "code",
   "execution_count": 7,
   "metadata": {},
   "outputs": [
    {
     "data": {
      "text/html": [
       "<div>\n",
       "<style scoped>\n",
       "    .dataframe tbody tr th:only-of-type {\n",
       "        vertical-align: middle;\n",
       "    }\n",
       "\n",
       "    .dataframe tbody tr th {\n",
       "        vertical-align: top;\n",
       "    }\n",
       "\n",
       "    .dataframe thead th {\n",
       "        text-align: right;\n",
       "    }\n",
       "</style>\n",
       "<table border=\"1\" class=\"dataframe\">\n",
       "  <thead>\n",
       "    <tr style=\"text-align: right;\">\n",
       "      <th></th>\n",
       "      <th>Year</th>\n",
       "      <th>[+]_Revenue</th>\n",
       "      <th>[+] Cost of Revenue</th>\n",
       "      <th>[+] Gross Profit</th>\n",
       "      <th>[+] Share Of Profit Of Associates</th>\n",
       "      <th>[+] Profit Before Tax (Include Exceptional Items)</th>\n",
       "      <th>[+] Profit After Tax</th>\n",
       "      <th>[+] Net Earnings</th>\n",
       "      <th>[+] Profit Attributable To Shareholders</th>\n",
       "      <th>[+] Shareholders' Equity</th>\n",
       "      <th>[+] Total Equity, MI &amp; Liabilities</th>\n",
       "      <th>[+] Total Assets</th>\n",
       "      <th>[+] Operating Cash Flows Before Working Capital Changes</th>\n",
       "      <th>[+] Cash Generated From / (Used In) Operations</th>\n",
       "      <th>[+] Net Cash Generated From / (Used In) Operating Activities</th>\n",
       "      <th>[+] Net Changes In Cash And Cash Equivalents</th>\n",
       "      <th>[+] Cash And Cash Equivalents At End</th>\n",
       "      <th>Unnamed: 17</th>\n",
       "    </tr>\n",
       "  </thead>\n",
       "  <tbody>\n",
       "    <tr>\n",
       "      <th>count</th>\n",
       "      <td>17.000000</td>\n",
       "      <td>1.700000e+01</td>\n",
       "      <td>1.700000e+01</td>\n",
       "      <td>17.000000</td>\n",
       "      <td>17.000000</td>\n",
       "      <td>17.000000</td>\n",
       "      <td>17.000000</td>\n",
       "      <td>17.000000</td>\n",
       "      <td>17.000000</td>\n",
       "      <td>1.700000e+01</td>\n",
       "      <td>1.700000e+01</td>\n",
       "      <td>1.700000e+01</td>\n",
       "      <td>17.000000</td>\n",
       "      <td>17.000000</td>\n",
       "      <td>17.000000</td>\n",
       "      <td>17.000000</td>\n",
       "      <td>17.000000</td>\n",
       "      <td>0.0</td>\n",
       "    </tr>\n",
       "    <tr>\n",
       "      <th>mean</th>\n",
       "      <td>2011.000000</td>\n",
       "      <td>3.296494e+06</td>\n",
       "      <td>-1.426818e+06</td>\n",
       "      <td>408305.882353</td>\n",
       "      <td>3423.529412</td>\n",
       "      <td>372911.764706</td>\n",
       "      <td>297870.588235</td>\n",
       "      <td>245423.529412</td>\n",
       "      <td>245423.529412</td>\n",
       "      <td>1.927341e+06</td>\n",
       "      <td>4.242694e+06</td>\n",
       "      <td>4.242694e+06</td>\n",
       "      <td>520158.823529</td>\n",
       "      <td>516800.000000</td>\n",
       "      <td>467976.470588</td>\n",
       "      <td>17835.294118</td>\n",
       "      <td>454817.647059</td>\n",
       "      <td>NaN</td>\n",
       "    </tr>\n",
       "    <tr>\n",
       "      <th>std</th>\n",
       "      <td>5.049752</td>\n",
       "      <td>7.138520e+05</td>\n",
       "      <td>1.563764e+06</td>\n",
       "      <td>447136.150225</td>\n",
       "      <td>3335.889951</td>\n",
       "      <td>67931.618948</td>\n",
       "      <td>56313.539277</td>\n",
       "      <td>48049.473585</td>\n",
       "      <td>48049.473585</td>\n",
       "      <td>4.874666e+05</td>\n",
       "      <td>9.807373e+05</td>\n",
       "      <td>9.807373e+05</td>\n",
       "      <td>352429.413250</td>\n",
       "      <td>348434.364336</td>\n",
       "      <td>316565.795944</td>\n",
       "      <td>71428.468950</td>\n",
       "      <td>323451.430348</td>\n",
       "      <td>NaN</td>\n",
       "    </tr>\n",
       "    <tr>\n",
       "      <th>min</th>\n",
       "      <td>2003.000000</td>\n",
       "      <td>1.846000e+06</td>\n",
       "      <td>-3.200900e+06</td>\n",
       "      <td>0.000000</td>\n",
       "      <td>-5900.000000</td>\n",
       "      <td>206200.000000</td>\n",
       "      <td>155800.000000</td>\n",
       "      <td>133900.000000</td>\n",
       "      <td>133900.000000</td>\n",
       "      <td>1.264100e+06</td>\n",
       "      <td>2.670700e+06</td>\n",
       "      <td>2.670700e+06</td>\n",
       "      <td>0.000000</td>\n",
       "      <td>0.000000</td>\n",
       "      <td>0.000000</td>\n",
       "      <td>-179000.000000</td>\n",
       "      <td>0.000000</td>\n",
       "      <td>NaN</td>\n",
       "    </tr>\n",
       "    <tr>\n",
       "      <th>25%</th>\n",
       "      <td>2007.000000</td>\n",
       "      <td>3.016600e+06</td>\n",
       "      <td>-3.081700e+06</td>\n",
       "      <td>0.000000</td>\n",
       "      <td>1900.000000</td>\n",
       "      <td>334100.000000</td>\n",
       "      <td>273300.000000</td>\n",
       "      <td>219500.000000</td>\n",
       "      <td>219500.000000</td>\n",
       "      <td>1.482500e+06</td>\n",
       "      <td>3.316100e+06</td>\n",
       "      <td>3.316100e+06</td>\n",
       "      <td>0.000000</td>\n",
       "      <td>0.000000</td>\n",
       "      <td>0.000000</td>\n",
       "      <td>0.000000</td>\n",
       "      <td>0.000000</td>\n",
       "      <td>NaN</td>\n",
       "    </tr>\n",
       "    <tr>\n",
       "      <th>50%</th>\n",
       "      <td>2011.000000</td>\n",
       "      <td>3.411100e+06</td>\n",
       "      <td>0.000000e+00</td>\n",
       "      <td>0.000000</td>\n",
       "      <td>4300.000000</td>\n",
       "      <td>379200.000000</td>\n",
       "      <td>297500.000000</td>\n",
       "      <td>244600.000000</td>\n",
       "      <td>244600.000000</td>\n",
       "      <td>1.891500e+06</td>\n",
       "      <td>4.589200e+06</td>\n",
       "      <td>4.589200e+06</td>\n",
       "      <td>705400.000000</td>\n",
       "      <td>682000.000000</td>\n",
       "      <td>600200.000000</td>\n",
       "      <td>1500.000000</td>\n",
       "      <td>576700.000000</td>\n",
       "      <td>NaN</td>\n",
       "    </tr>\n",
       "    <tr>\n",
       "      <th>75%</th>\n",
       "      <td>2015.000000</td>\n",
       "      <td>3.905700e+06</td>\n",
       "      <td>0.000000e+00</td>\n",
       "      <td>856200.000000</td>\n",
       "      <td>5000.000000</td>\n",
       "      <td>425400.000000</td>\n",
       "      <td>344000.000000</td>\n",
       "      <td>283500.000000</td>\n",
       "      <td>283500.000000</td>\n",
       "      <td>2.335100e+06</td>\n",
       "      <td>5.122000e+06</td>\n",
       "      <td>5.122000e+06</td>\n",
       "      <td>770000.000000</td>\n",
       "      <td>765900.000000</td>\n",
       "      <td>697700.000000</td>\n",
       "      <td>70600.000000</td>\n",
       "      <td>694600.000000</td>\n",
       "      <td>NaN</td>\n",
       "    </tr>\n",
       "    <tr>\n",
       "      <th>max</th>\n",
       "      <td>2019.000000</td>\n",
       "      <td>4.111500e+06</td>\n",
       "      <td>0.000000e+00</td>\n",
       "      <td>925500.000000</td>\n",
       "      <td>7700.000000</td>\n",
       "      <td>466600.000000</td>\n",
       "      <td>378400.000000</td>\n",
       "      <td>317100.000000</td>\n",
       "      <td>317100.000000</td>\n",
       "      <td>2.618200e+06</td>\n",
       "      <td>5.379000e+06</td>\n",
       "      <td>5.379000e+06</td>\n",
       "      <td>848800.000000</td>\n",
       "      <td>821600.000000</td>\n",
       "      <td>777500.000000</td>\n",
       "      <td>127600.000000</td>\n",
       "      <td>830600.000000</td>\n",
       "      <td>NaN</td>\n",
       "    </tr>\n",
       "  </tbody>\n",
       "</table>\n",
       "</div>"
      ],
      "text/plain": [
       "              Year   [+]_Revenue  [+] Cost of Revenue  [+] Gross Profit  \\\n",
       "count    17.000000  1.700000e+01         1.700000e+01         17.000000   \n",
       "mean   2011.000000  3.296494e+06        -1.426818e+06     408305.882353   \n",
       "std       5.049752  7.138520e+05         1.563764e+06     447136.150225   \n",
       "min    2003.000000  1.846000e+06        -3.200900e+06          0.000000   \n",
       "25%    2007.000000  3.016600e+06        -3.081700e+06          0.000000   \n",
       "50%    2011.000000  3.411100e+06         0.000000e+00          0.000000   \n",
       "75%    2015.000000  3.905700e+06         0.000000e+00     856200.000000   \n",
       "max    2019.000000  4.111500e+06         0.000000e+00     925500.000000   \n",
       "\n",
       "       [+] Share Of Profit Of Associates  \\\n",
       "count                          17.000000   \n",
       "mean                         3423.529412   \n",
       "std                          3335.889951   \n",
       "min                         -5900.000000   \n",
       "25%                          1900.000000   \n",
       "50%                          4300.000000   \n",
       "75%                          5000.000000   \n",
       "max                          7700.000000   \n",
       "\n",
       "       [+] Profit Before Tax (Include Exceptional Items)  \\\n",
       "count                                          17.000000   \n",
       "mean                                       372911.764706   \n",
       "std                                         67931.618948   \n",
       "min                                        206200.000000   \n",
       "25%                                        334100.000000   \n",
       "50%                                        379200.000000   \n",
       "75%                                        425400.000000   \n",
       "max                                        466600.000000   \n",
       "\n",
       "       [+] Profit After Tax  [+] Net Earnings  \\\n",
       "count             17.000000         17.000000   \n",
       "mean          297870.588235     245423.529412   \n",
       "std            56313.539277      48049.473585   \n",
       "min           155800.000000     133900.000000   \n",
       "25%           273300.000000     219500.000000   \n",
       "50%           297500.000000     244600.000000   \n",
       "75%           344000.000000     283500.000000   \n",
       "max           378400.000000     317100.000000   \n",
       "\n",
       "       [+] Profit Attributable To Shareholders  [+] Shareholders' Equity  \\\n",
       "count                                17.000000              1.700000e+01   \n",
       "mean                             245423.529412              1.927341e+06   \n",
       "std                               48049.473585              4.874666e+05   \n",
       "min                              133900.000000              1.264100e+06   \n",
       "25%                              219500.000000              1.482500e+06   \n",
       "50%                              244600.000000              1.891500e+06   \n",
       "75%                              283500.000000              2.335100e+06   \n",
       "max                              317100.000000              2.618200e+06   \n",
       "\n",
       "       [+] Total Equity, MI & Liabilities  [+] Total Assets  \\\n",
       "count                        1.700000e+01      1.700000e+01   \n",
       "mean                         4.242694e+06      4.242694e+06   \n",
       "std                          9.807373e+05      9.807373e+05   \n",
       "min                          2.670700e+06      2.670700e+06   \n",
       "25%                          3.316100e+06      3.316100e+06   \n",
       "50%                          4.589200e+06      4.589200e+06   \n",
       "75%                          5.122000e+06      5.122000e+06   \n",
       "max                          5.379000e+06      5.379000e+06   \n",
       "\n",
       "       [+] Operating Cash Flows Before Working Capital Changes  \\\n",
       "count                                          17.000000         \n",
       "mean                                       520158.823529         \n",
       "std                                        352429.413250         \n",
       "min                                             0.000000         \n",
       "25%                                             0.000000         \n",
       "50%                                        705400.000000         \n",
       "75%                                        770000.000000         \n",
       "max                                        848800.000000         \n",
       "\n",
       "       [+] Cash Generated From / (Used In) Operations  \\\n",
       "count                                       17.000000   \n",
       "mean                                    516800.000000   \n",
       "std                                     348434.364336   \n",
       "min                                          0.000000   \n",
       "25%                                          0.000000   \n",
       "50%                                     682000.000000   \n",
       "75%                                     765900.000000   \n",
       "max                                     821600.000000   \n",
       "\n",
       "       [+] Net Cash Generated From / (Used In) Operating Activities  \\\n",
       "count                                          17.000000              \n",
       "mean                                       467976.470588              \n",
       "std                                        316565.795944              \n",
       "min                                             0.000000              \n",
       "25%                                             0.000000              \n",
       "50%                                        600200.000000              \n",
       "75%                                        697700.000000              \n",
       "max                                        777500.000000              \n",
       "\n",
       "       [+] Net Changes In Cash And Cash Equivalents  \\\n",
       "count                                     17.000000   \n",
       "mean                                   17835.294118   \n",
       "std                                    71428.468950   \n",
       "min                                  -179000.000000   \n",
       "25%                                        0.000000   \n",
       "50%                                     1500.000000   \n",
       "75%                                    70600.000000   \n",
       "max                                   127600.000000   \n",
       "\n",
       "       [+] Cash And Cash Equivalents At End  Unnamed: 17  \n",
       "count                             17.000000          0.0  \n",
       "mean                          454817.647059          NaN  \n",
       "std                           323451.430348          NaN  \n",
       "min                                0.000000          NaN  \n",
       "25%                                0.000000          NaN  \n",
       "50%                           576700.000000          NaN  \n",
       "75%                           694600.000000          NaN  \n",
       "max                           830600.000000          NaN  "
      ]
     },
     "execution_count": 7,
     "metadata": {},
     "output_type": "execute_result"
    }
   ],
   "source": [
    "df.describe()"
   ]
  },
  {
   "cell_type": "markdown",
   "metadata": {},
   "source": [
    "**Testing graph plotting**\n",
    "\n"
   ]
  },
  {
   "cell_type": "code",
   "execution_count": 8,
   "metadata": {},
   "outputs": [
    {
     "data": {
      "text/plain": [
       "<matplotlib.axes._subplots.AxesSubplot at 0x209516ffe80>"
      ]
     },
     "execution_count": 8,
     "metadata": {},
     "output_type": "execute_result"
    },
    {
     "data": {
      "image/png": "[encoded data removed]",
      "text/plain": [
       "<Figure size 432x288 with 1 Axes>"
      ]
     },
     "metadata": {
      "needs_background": "light"
     },
     "output_type": "display_data"
    }
   ],
   "source": [
    "# print(\"Freq dist of 'y'-How many subscribed to term deposit:\\n\", \n",
    "# df_t['[+] Revenue'].value_counts()\n",
    "# print(\"-\"*40)\n",
    "\n",
    "# df.plot()\n",
    "\n",
    "\n",
    "df[['[+]_Revenue']].plot.box()\n"
   ]
  },
  {
   "cell_type": "code",
   "execution_count": 9,
   "metadata": {},
   "outputs": [
    {
     "name": "stdout",
     "output_type": "stream",
     "text": [
      "0          0.0\n",
      "1          0.0\n",
      "2          0.0\n",
      "3          0.0\n",
      "4          0.0\n",
      "5          0.0\n",
      "6          0.0\n",
      "7          0.0\n",
      "8          0.0\n",
      "9     823200.0\n",
      "10    856200.0\n",
      "11    893300.0\n",
      "12    910600.0\n",
      "13    925500.0\n",
      "14    842600.0\n",
      "15    865800.0\n",
      "16    824000.0\n",
      "Name: [+] Gross Profit, dtype: float64\n"
     ]
    }
   ],
   "source": [
    "\n",
    "print(df['[+]\\xa0Gross Profit'])"
   ]
  },
  {
   "cell_type": "markdown",
   "metadata": {},
   "source": [
    "**General Graph**"
   ]
  },
  {
   "cell_type": "code",
   "execution_count": 10,
   "metadata": {},
   "outputs": [
    {
     "data": {
      "text/plain": [
       "<matplotlib.axes._subplots.AxesSubplot at 0x20951b7ae80>"
      ]
     },
     "execution_count": 10,
     "metadata": {},
     "output_type": "execute_result"
    },
    {
     "data": {
      "image/png": "[encoded data removed]",
      "text/plain": [
       "<Figure size 432x288 with 1 Axes>"
      ]
     },
     "metadata": {
      "needs_background": "light"
     },
     "output_type": "display_data"
    }
   ],
   "source": [
    "df.plot(legend=None)"
   ]
  },
  {
   "cell_type": "code",
   "execution_count": 11,
   "metadata": {},
   "outputs": [
    {
     "data": {
      "text/plain": [
       "<matplotlib.axes._subplots.AxesSubplot at 0x20951c0be80>"
      ]
     },
     "execution_count": 11,
     "metadata": {},
     "output_type": "execute_result"
    },
    {
     "data": {
      "image/png": "[encoded data removed]",
      "text/plain": [
       "<Figure size 432x288 with 1 Axes>"
      ]
     },
     "metadata": {
      "needs_background": "light"
     },
     "output_type": "display_data"
    }
   ],
   "source": [
    "df.plot()\n",
    "#legend below"
   ]
  },
  {
   "cell_type": "markdown",
   "metadata": {},
   "source": [
    "**Bubble Plot**"
   ]
  },
  {
   "cell_type": "code",
   "execution_count": 12,
   "metadata": {},
   "outputs": [
    {
     "data": {
      "application/vnd.vegalite.v3+json": {
       "$schema": "https://vega.github.io/schema/vega-lite/v3.4.0.json",
       "config": {
        "mark": {
         "color": "red",
         "tooltip": null
        },
        "view": {
         "height": 300,
         "width": 400
        }
       },
       "data": {
        "name": "data-6512be2753529c242ccfda9b98ab2957"
       },
       "datasets": {
        "data-6512be2753529c242ccfda9b98ab2957": [
         {
          "Unnamed: 17": null,
          "Year": 2003,
          "[+]_Revenue": 1846000,
          "[+] Cash And Cash Equivalents At End": 0,
          "[+] Cash Generated From / (Used In) Operations": 0,
          "[+] Cost of Revenue": 0,
          "[+] Gross Profit": 0,
          "[+] Net Cash Generated From / (Used In) Operating Activities": 0,
          "[+] Net Changes In Cash And Cash Equivalents": 0,
          "[+] Net Earnings": 133900,
          "[+] Operating Cash Flows Before Working Capital Changes": 0,
          "[+] Profit After Tax": 155800,
          "[+] Profit Attributable To Shareholders": 133900,
          "[+] Profit Before Tax (Include Exceptional Items)": 206200,
          "[+] Share Of Profit Of Associates": -5900,
          "[+] Shareholders' Equity": 1264100,
          "[+] Total Assets": 2670700,
          "[+] Total Equity, MI & Liabilities": 2670700
         },
         {
          "Unnamed: 17": null,
          "Year": 2004,
          "[+]_Revenue": 2097800,
          "[+] Cash And Cash Equivalents At End": 0,
          "[+] Cash Generated From / (Used In) Operations": 0,
          "[+] Cost of Revenue": 0,
          "[+] Gross Profit": 0,
          "[+] Net Cash Generated From / (Used In) Operating Activities": 0,
          "[+] Net Changes In Cash And Cash Equivalents": 0,
          "[+] Net Earnings": 200600,
          "[+] Operating Cash Flows Before Working Capital Changes": 0,
          "[+] Profit After Tax": 245300,
          "[+] Profit Attributable To Shareholders": 200600,
          "[+] Profit Before Tax (Include Exceptional Items)": 320500,
          "[+] Share Of Profit Of Associates": 500,
          "[+] Shareholders' Equity": 1302900,
          "[+] Total Assets": 2778500,
          "[+] Total Equity, MI & Liabilities": 2778500
         },
         {
          "Unnamed: 17": null,
          "Year": 2005,
          "[+]_Revenue": 2294400,
          "[+] Cash And Cash Equivalents At End": 0,
          "[+] Cash Generated From / (Used In) Operations": 0,
          "[+] Cost of Revenue": 0,
          "[+] Gross Profit": 0,
          "[+] Net Cash Generated From / (Used In) Operating Activities": 0,
          "[+] Net Changes In Cash And Cash Equivalents": 0,
          "[+] Net Earnings": 201900,
          "[+] Operating Cash Flows Before Working Capital Changes": 0,
          "[+] Profit After Tax": 239100,
          "[+] Profit Attributable To Shareholders": 201900,
          "[+] Profit Before Tax (Include Exceptional Items)": 300900,
          "[+] Share Of Profit Of Associates": 1900,
          "[+] Shareholders' Equity": 1345000,
          "[+] Total Assets": 3058400,
          "[+] Total Equity, MI & Liabilities": 3058400
         },
         {
          "Unnamed: 17": null,
          "Year": 2006,
          "[+]_Revenue": 2793100,
          "[+] Cash And Cash Equivalents At End": 0,
          "[+] Cash Generated From / (Used In) Operations": 0,
          "[+] Cost of Revenue": 0,
          "[+] Gross Profit": 0,
          "[+] Net Cash Generated From / (Used In) Operating Activities": 0,
          "[+] Net Changes In Cash And Cash Equivalents": 0,
          "[+] Net Earnings": 244600,
          "[+] Operating Cash Flows Before Working Capital Changes": 0,
          "[+] Profit After Tax": 289800,
          "[+] Profit Attributable To Shareholders": 244600,
          "[+] Profit Before Tax (Include Exceptional Items)": 360800,
          "[+] Share Of Profit Of Associates": 3300,
          "[+] Shareholders' Equity": 1441300,
          "[+] Total Assets": 3084600,
          "[+] Total Equity, MI & Liabilities": 3084600
         },
         {
          "Unnamed: 17": null,
          "Year": 2007,
          "[+]_Revenue": 3016600,
          "[+] Cash And Cash Equivalents At End": 0,
          "[+] Cash Generated From / (Used In) Operations": 0,
          "[+] Cost of Revenue": 0,
          "[+] Gross Profit": 0,
          "[+] Net Cash Generated From / (Used In) Operating Activities": 0,
          "[+] Net Changes In Cash And Cash Equivalents": 0,
          "[+] Net Earnings": 223000,
          "[+] Operating Cash Flows Before Working Capital Changes": 0,
          "[+] Profit After Tax": 273300,
          "[+] Profit Attributable To Shareholders": 223000,
          "[+] Profit Before Tax (Include Exceptional Items)": 334500,
          "[+] Share Of Profit Of Associates": 5000,
          "[+] Shareholders' Equity": 1482500,
          "[+] Total Assets": 3316100,
          "[+] Total Equity, MI & Liabilities": 3316100
         },
         {
          "Unnamed: 17": null,
          "Year": 2008,
          "[+]_Revenue": 3125600,
          "[+] Cash And Cash Equivalents At End": 408300,
          "[+] Cash Generated From / (Used In) Operations": 632100,
          "[+] Cost of Revenue": 0,
          "[+] Gross Profit": 0,
          "[+] Net Cash Generated From / (Used In) Operating Activities": 574000,
          "[+] Net Changes In Cash And Cash Equivalents": 70600,
          "[+] Net Earnings": 200100,
          "[+] Operating Cash Flows Before Working Capital Changes": 551300,
          "[+] Profit After Tax": 249200,
          "[+] Profit Attributable To Shareholders": 200100,
          "[+] Profit Before Tax (Include Exceptional Items)": 300300,
          "[+] Share Of Profit Of Associates": 7600,
          "[+] Shareholders' Equity": 1556800,
          "[+] Total Assets": 3351600,
          "[+] Total Equity, MI & Liabilities": 3351600
         },
         {
          "Unnamed: 17": null,
          "Year": 2009,
          "[+]_Revenue": 3051800,
          "[+] Cash And Cash Equivalents At End": 485600,
          "[+] Cash Generated From / (Used In) Operations": 780700,
          "[+] Cost of Revenue": 0,
          "[+] Gross Profit": 0,
          "[+] Net Cash Generated From / (Used In) Operating Activities": 728400,
          "[+] Net Changes In Cash And Cash Equivalents": 96900,
          "[+] Net Earnings": 219500,
          "[+] Operating Cash Flows Before Working Capital Changes": 648500,
          "[+] Profit After Tax": 275700,
          "[+] Profit Attributable To Shareholders": 219500,
          "[+] Profit Before Tax (Include Exceptional Items)": 334100,
          "[+] Share Of Profit Of Associates": 7700,
          "[+] Shareholders' Equity": 1690000,
          "[+] Total Assets": 4052400,
          "[+] Total Equity, MI & Liabilities": 4052400
         },
         {
          "Unnamed: 17": null,
          "Year": 2010,
          "[+]_Revenue": 3206900,
          "[+] Cash And Cash Equivalents At End": 566700,
          "[+] Cash Generated From / (Used In) Operations": 636400,
          "[+] Cost of Revenue": 0,
          "[+] Gross Profit": 0,
          "[+] Net Cash Generated From / (Used In) Operating Activities": 592600,
          "[+] Net Changes In Cash And Cash Equivalents": 88000,
          "[+] Net Earnings": 228500,
          "[+] Operating Cash Flows Before Working Capital Changes": 697400,
          "[+] Profit After Tax": 288200,
          "[+] Profit Attributable To Shareholders": 228500,
          "[+] Profit Before Tax (Include Exceptional Items)": 366300,
          "[+] Share Of Profit Of Associates": 6400,
          "[+] Shareholders' Equity": 1800500,
          "[+] Total Assets": 4381400,
          "[+] Total Equity, MI & Liabilities": 4381400
         },
         {
          "Unnamed: 17": null,
          "Year": 2011,
          "[+]_Revenue": 3411100,
          "[+] Cash And Cash Equivalents At End": 576700,
          "[+] Cash Generated From / (Used In) Operations": 821600,
          "[+] Cost of Revenue": 0,
          "[+] Gross Profit": 0,
          "[+] Net Cash Generated From / (Used In) Operating Activities": 777500,
          "[+] Net Changes In Cash And Cash Equivalents": 1500,
          "[+] Net Earnings": 235600,
          "[+] Operating Cash Flows Before Working Capital Changes": 723100,
          "[+] Profit After Tax": 297500,
          "[+] Profit Attributable To Shareholders": 235600,
          "[+] Profit Before Tax (Include Exceptional Items)": 379200,
          "[+] Share Of Profit Of Associates": 5300,
          "[+] Shareholders' Equity": 1891500,
          "[+] Total Assets": 4589200,
          "[+] Total Equity, MI & Liabilities": 4589200
         },
         {
          "Unnamed: 17": null,
          "Year": 2012,
          "[+]_Revenue": 3545300,
          "[+] Cash And Cash Equivalents At End": 694600,
          "[+] Cash Generated From / (Used In) Operations": 763500,
          "[+] Cost of Revenue": -2722100,
          "[+] Gross Profit": 823200,
          "[+] Net Cash Generated From / (Used In) Operating Activities": 687200,
          "[+] Net Changes In Cash And Cash Equivalents": 120700,
          "[+] Net Earnings": 248900,
          "[+] Operating Cash Flows Before Working Capital Changes": 743400,
          "[+] Profit After Tax": 310500,
          "[+] Profit Attributable To Shareholders": 248900,
          "[+] Profit Before Tax (Include Exceptional Items)": 396000,
          "[+] Share Of Profit Of Associates": 3600,
          "[+] Shareholders' Equity": 2008200,
          "[+] Total Assets": 4845800,
          "[+] Total Equity, MI & Liabilities": 4845800
         },
         {
          "Unnamed: 17": null,
          "Year": 2013,
          "[+]_Revenue": 3747700,
          "[+] Cash And Cash Equivalents At End": 830600,
          "[+] Cash Generated From / (Used In) Operations": 775800,
          "[+] Cost of Revenue": -2891500,
          "[+] Gross Profit": 856200,
          "[+] Net Cash Generated From / (Used In) Operating Activities": 697700,
          "[+] Net Changes In Cash And Cash Equivalents": 127600,
          "[+] Net Earnings": 263200,
          "[+] Operating Cash Flows Before Working Capital Changes": 770000,
          "[+] Profit After Tax": 327300,
          "[+] Profit Attributable To Shareholders": 263200,
          "[+] Profit Before Tax (Include Exceptional Items)": 414300,
          "[+] Share Of Profit Of Associates": 4000,
          "[+] Shareholders' Equity": 2154700,
          "[+] Total Assets": 5084700,
          "[+] Total Equity, MI & Liabilities": 5084700
         },
         {
          "Unnamed: 17": null,
          "Year": 2014,
          "[+]_Revenue": 4051300,
          "[+] Cash And Cash Equivalents At End": 825800,
          "[+] Cash Generated From / (Used In) Operations": 818000,
          "[+] Cost of Revenue": -3158000,
          "[+] Gross Profit": 893300,
          "[+] Net Cash Generated From / (Used In) Operating Activities": 734900,
          "[+] Net Changes In Cash And Cash Equivalents": -8200,
          "[+] Net Earnings": 283500,
          "[+] Operating Cash Flows Before Working Capital Changes": 792000,
          "[+] Profit After Tax": 344000,
          "[+] Profit Attributable To Shareholders": 283500,
          "[+] Profit Before Tax (Include Exceptional Items)": 436300,
          "[+] Share Of Profit Of Associates": 4300,
          "[+] Shareholders' Equity": 2189900,
          "[+] Total Assets": 5230700,
          "[+] Total Equity, MI & Liabilities": 5230700
         },
         {
          "Unnamed: 17": null,
          "Year": 2015,
          "[+]_Revenue": 4111500,
          "[+] Cash And Cash Equivalents At End": 787800,
          "[+] Cash Generated From / (Used In) Operations": 682000,
          "[+] Cost of Revenue": -3200900,
          "[+] Gross Profit": 910600,
          "[+] Net Cash Generated From / (Used In) Operating Activities": 600200,
          "[+] Net Changes In Cash And Cash Equivalents": -40800,
          "[+] Net Earnings": 301900,
          "[+] Operating Cash Flows Before Working Capital Changes": 705400,
          "[+] Profit After Tax": 363800,
          "[+] Profit Attributable To Shareholders": 301900,
          "[+] Profit Before Tax (Include Exceptional Items)": 452200,
          "[+] Share Of Profit Of Associates": 4900,
          "[+] Shareholders' Equity": 2335100,
          "[+] Total Assets": 5216300,
          "[+] Total Equity, MI & Liabilities": 5216300
         },
         {
          "Unnamed: 17": null,
          "Year": 2016,
          "[+]_Revenue": 4059500,
          "[+] Cash And Cash Equivalents At End": 779300,
          "[+] Cash Generated From / (Used In) Operations": 765900,
          "[+] Cost of Revenue": -3134000,
          "[+] Gross Profit": 925500,
          "[+] Net Cash Generated From / (Used In) Operating Activities": 702500,
          "[+] Net Changes In Cash And Cash Equivalents": 10400,
          "[+] Net Earnings": 317100,
          "[+] Operating Cash Flows Before Working Capital Changes": 757400,
          "[+] Profit After Tax": 378400,
          "[+] Profit Attributable To Shareholders": 317100,
          "[+] Profit Before Tax (Include Exceptional Items)": 466600,
          "[+] Share Of Profit Of Associates": 4900,
          "[+] Shareholders' Equity": 2475500,
          "[+] Total Assets": 5122000,
          "[+] Total Equity, MI & Liabilities": 5122000
         },
         {
          "Unnamed: 17": null,
          "Year": 2017,
          "[+]_Revenue": 3970900,
          "[+] Cash And Cash Equivalents At End": 596200,
          "[+] Cash Generated From / (Used In) Operations": 653900,
          "[+] Cost of Revenue": -3128300,
          "[+] Gross Profit": 842600,
          "[+] Net Cash Generated From / (Used In) Operating Activities": 581900,
          "[+] Net Changes In Cash And Cash Equivalents": -179000,
          "[+] Net Earnings": 301500,
          "[+] Operating Cash Flows Before Working Capital Changes": 799500,
          "[+] Profit After Tax": 348900,
          "[+] Profit Attributable To Shareholders": 301500,
          "[+] Profit Before Tax (Include Exceptional Items)": 425400,
          "[+] Share Of Profit Of Associates": 4600,
          "[+] Shareholders' Equity": 2618200,
          "[+] Total Assets": 4827700,
          "[+] Total Equity, MI & Liabilities": 4827700
         },
         {
          "Unnamed: 17": null,
          "Year": 2018,
          "[+]_Revenue": 3805200,
          "[+] Cash And Cash Equivalents At End": 586100,
          "[+] Cash Generated From / (Used In) Operations": 750900,
          "[+] Cost of Revenue": -2939400,
          "[+] Gross Profit": 865800,
          "[+] Net Cash Generated From / (Used In) Operating Activities": 668800,
          "[+] Net Changes In Cash And Cash Equivalents": 1900,
          "[+] Net Earnings": 303300,
          "[+] Operating Cash Flows Before Working Capital Changes": 805900,
          "[+] Profit After Tax": 358800,
          "[+] Profit Attributable To Shareholders": 303300,
          "[+] Profit Before Tax (Include Exceptional Items)": 439300,
          "[+] Share Of Profit Of Associates": 100,
          "[+] Shareholders' Equity": 2613600,
          "[+] Total Assets": 5136700,
          "[+] Total Equity, MI & Liabilities": 5136700
         },
         {
          "Unnamed: 17": null,
          "Year": 2019,
          "[+]_Revenue": 3905700,
          "[+] Cash And Cash Equivalents At End": 594200,
          "[+] Cash Generated From / (Used In) Operations": 704800,
          "[+] Cost of Revenue": -3081700,
          "[+] Gross Profit": 824000,
          "[+] Net Cash Generated From / (Used In) Operating Activities": 609900,
          "[+] Net Changes In Cash And Cash Equivalents": 13600,
          "[+] Net Earnings": 265100,
          "[+] Operating Cash Flows Before Working Capital Changes": 848800,
          "[+] Profit After Tax": 318200,
          "[+] Profit Attributable To Shareholders": 265100,
          "[+] Profit Before Tax (Include Exceptional Items)": 406600,
          "[+] Share Of Profit Of Associates": 0,
          "[+] Shareholders' Equity": 2595000,
          "[+] Total Assets": 5379000,
          "[+] Total Equity, MI & Liabilities": 5379000
         }
        ]
       },
       "encoding": {
        "size": {
         "field": "[+] Total Assets",
         "type": "quantitative"
        },
        "tooltip": [
         {
          "field": "[+] Cost of Revenue",
          "type": "quantitative"
         }
        ],
        "x": {
         "field": "[+]_Revenue",
         "type": "quantitative"
        },
        "y": {
         "field": "Year",
         "type": "quantitative"
        }
       },
       "mark": "circle",
       "selection": {
        "selector001": {
         "bind": "scales",
         "encodings": [
          "x",
          "y"
         ],
         "type": "interval"
        }
       }
      },
      "text/plain": [
       "<VegaLite 3 object>\n",
       "\n",
       "If you see this message, it means the renderer has not been properly enabled\n",
       "for the frontend that you are using. For more information, see\n",
       "https://altair-viz.github.io/user_guide/troubleshooting.html\n"
      ]
     },
     "execution_count": 12,
     "metadata": {},
     "output_type": "execute_result"
    }
   ],
   "source": [
    "graph = alt.Chart(data).mark_circle().encode(\n",
    "    x=\"[+]_Revenue\",\n",
    "    y=\"Year\",\n",
    "    size='[+]\\xa0Total Assets',\n",
    "    tooltip=[\"[+]\\xa0Cost of Revenue\"]\n",
    "#              , '[+]\\xa0Gross Profit', '[+]\\xa0Share Of Profit Of Associates', \n",
    "#              '[+]\\xa0Profit Before Tax (Include Exceptional Items)', '[+]\\xa0Profit After Tax', \n",
    "#              '[+]\\xa0Net Earnings', '[+]\\xa0Profit Attributable To Shareholders', \n",
    "#              \"[+]\\xa0Shareholders' Equity\", '[+]\\xa0Total Equity, MI & Liabilities', \n",
    "#              '[+]\\xa0Operating Cash Flows Before Working Capital Changes', \n",
    "#              '[+]\\xa0Cash Generated From / (Used In) Operations', \n",
    "#              '[+]\\xa0Net Cash Generated From / (Used In) Operating Activities', \n",
    "#              '[+]\\xa0Net Changes In Cash And Cash Equivalents', \n",
    "#              '[+]\\xa0Cash And Cash Equivalents At End']\n",
    ").configure_mark(\n",
    "    color='red'\n",
    ").interactive()\n",
    "\n",
    "graph\n"
   ]
  },
  {
   "cell_type": "code",
   "execution_count": 164,
   "metadata": {},
   "outputs": [
    {
     "ename": "KeyError",
     "evalue": "'Year'",
     "output_type": "error",
     "traceback": [
      "\u001b[1;31m---------------------------------------------------------------------------\u001b[0m",
      "\u001b[1;31mKeyError\u001b[0m                                  Traceback (most recent call last)",
      "\u001b[1;32m~\\Anaconda3\\lib\\site-packages\\pandas\\core\\indexes\\base.py\u001b[0m in \u001b[0;36mget_loc\u001b[1;34m(self, key, method, tolerance)\u001b[0m\n\u001b[0;32m   2896\u001b[0m             \u001b[1;32mtry\u001b[0m\u001b[1;33m:\u001b[0m\u001b[1;33m\u001b[0m\u001b[0m\n\u001b[1;32m-> 2897\u001b[1;33m                 \u001b[1;32mreturn\u001b[0m \u001b[0mself\u001b[0m\u001b[1;33m.\u001b[0m\u001b[0m_engine\u001b[0m\u001b[1;33m.\u001b[0m\u001b[0mget_loc\u001b[0m\u001b[1;33m(\u001b[0m\u001b[0mkey\u001b[0m\u001b[1;33m)\u001b[0m\u001b[1;33m\u001b[0m\u001b[0m\n\u001b[0m\u001b[0;32m   2898\u001b[0m             \u001b[1;32mexcept\u001b[0m \u001b[0mKeyError\u001b[0m\u001b[1;33m:\u001b[0m\u001b[1;33m\u001b[0m\u001b[0m\n",
      "\u001b[1;32mpandas/_libs/index.pyx\u001b[0m in \u001b[0;36mpandas._libs.index.IndexEngine.get_loc\u001b[1;34m()\u001b[0m\n",
      "\u001b[1;32mpandas/_libs/index.pyx\u001b[0m in \u001b[0;36mpandas._libs.index.IndexEngine.get_loc\u001b[1;34m()\u001b[0m\n",
      "\u001b[1;32mpandas/_libs/hashtable_class_helper.pxi\u001b[0m in \u001b[0;36mpandas._libs.hashtable.PyObjectHashTable.get_item\u001b[1;34m()\u001b[0m\n",
      "\u001b[1;32mpandas/_libs/hashtable_class_helper.pxi\u001b[0m in \u001b[0;36mpandas._libs.hashtable.PyObjectHashTable.get_item\u001b[1;34m()\u001b[0m\n",
      "\u001b[1;31mKeyError\u001b[0m: 'Year'",
      "\nDuring handling of the above exception, another exception occurred:\n",
      "\u001b[1;31mKeyError\u001b[0m                                  Traceback (most recent call last)",
      "\u001b[1;32m<ipython-input-164-7d705950fc3b>\u001b[0m in \u001b[0;36m<module>\u001b[1;34m\u001b[0m\n\u001b[1;32m----> 1\u001b[1;33m \u001b[0mdf\u001b[0m\u001b[1;33m.\u001b[0m\u001b[0mplot\u001b[0m\u001b[1;33m(\u001b[0m\u001b[0mkind\u001b[0m\u001b[1;33m=\u001b[0m\u001b[1;34m'scatter'\u001b[0m\u001b[1;33m,\u001b[0m \u001b[0mx\u001b[0m\u001b[1;33m=\u001b[0m\u001b[1;34m'[+]_Revenue'\u001b[0m\u001b[1;33m,\u001b[0m \u001b[0my\u001b[0m\u001b[1;33m=\u001b[0m\u001b[1;34m'Year'\u001b[0m\u001b[1;33m,\u001b[0m \u001b[0mc\u001b[0m\u001b[1;33m=\u001b[0m\u001b[1;34m'red'\u001b[0m\u001b[1;33m,\u001b[0m \u001b[0mcmap\u001b[0m\u001b[1;33m=\u001b[0m\u001b[1;34m'coolwarm'\u001b[0m\u001b[1;33m)\u001b[0m\u001b[1;33m\u001b[0m\u001b[0m\n\u001b[0m\u001b[0;32m      2\u001b[0m \u001b[1;33m\u001b[0m\u001b[0m\n\u001b[0;32m      3\u001b[0m \u001b[1;33m\u001b[0m\u001b[0m\n",
      "\u001b[1;32m~\\Anaconda3\\lib\\site-packages\\pandas\\plotting\\_core.py\u001b[0m in \u001b[0;36m__call__\u001b[1;34m(self, *args, **kwargs)\u001b[0m\n\u001b[0;32m    736\u001b[0m         \u001b[1;32mif\u001b[0m \u001b[0mkind\u001b[0m \u001b[1;32min\u001b[0m \u001b[0mself\u001b[0m\u001b[1;33m.\u001b[0m\u001b[0m_dataframe_kinds\u001b[0m\u001b[1;33m:\u001b[0m\u001b[1;33m\u001b[0m\u001b[0m\n\u001b[0;32m    737\u001b[0m             \u001b[1;32mif\u001b[0m \u001b[0misinstance\u001b[0m\u001b[1;33m(\u001b[0m\u001b[0mdata\u001b[0m\u001b[1;33m,\u001b[0m \u001b[0mABCDataFrame\u001b[0m\u001b[1;33m)\u001b[0m\u001b[1;33m:\u001b[0m\u001b[1;33m\u001b[0m\u001b[0m\n\u001b[1;32m--> 738\u001b[1;33m                 \u001b[1;32mreturn\u001b[0m \u001b[0mplot_backend\u001b[0m\u001b[1;33m.\u001b[0m\u001b[0mplot\u001b[0m\u001b[1;33m(\u001b[0m\u001b[0mdata\u001b[0m\u001b[1;33m,\u001b[0m \u001b[0mx\u001b[0m\u001b[1;33m=\u001b[0m\u001b[0mx\u001b[0m\u001b[1;33m,\u001b[0m \u001b[0my\u001b[0m\u001b[1;33m=\u001b[0m\u001b[0my\u001b[0m\u001b[1;33m,\u001b[0m \u001b[0mkind\u001b[0m\u001b[1;33m=\u001b[0m\u001b[0mkind\u001b[0m\u001b[1;33m,\u001b[0m \u001b[1;33m**\u001b[0m\u001b[0mkwargs\u001b[0m\u001b[1;33m)\u001b[0m\u001b[1;33m\u001b[0m\u001b[0m\n\u001b[0m\u001b[0;32m    739\u001b[0m             \u001b[1;32melse\u001b[0m\u001b[1;33m:\u001b[0m\u001b[1;33m\u001b[0m\u001b[0m\n\u001b[0;32m    740\u001b[0m                 raise ValueError(\n",
      "\u001b[1;32m~\\Anaconda3\\lib\\site-packages\\pandas\\plotting\\_matplotlib\\__init__.py\u001b[0m in \u001b[0;36mplot\u001b[1;34m(data, kind, **kwargs)\u001b[0m\n\u001b[0;32m     59\u001b[0m                 \u001b[0max\u001b[0m \u001b[1;33m=\u001b[0m \u001b[0mplt\u001b[0m\u001b[1;33m.\u001b[0m\u001b[0mgca\u001b[0m\u001b[1;33m(\u001b[0m\u001b[1;33m)\u001b[0m\u001b[1;33m\u001b[0m\u001b[0m\n\u001b[0;32m     60\u001b[0m             \u001b[0mkwargs\u001b[0m\u001b[1;33m[\u001b[0m\u001b[1;34m\"ax\"\u001b[0m\u001b[1;33m]\u001b[0m \u001b[1;33m=\u001b[0m \u001b[0mgetattr\u001b[0m\u001b[1;33m(\u001b[0m\u001b[0max\u001b[0m\u001b[1;33m,\u001b[0m \u001b[1;34m\"left_ax\"\u001b[0m\u001b[1;33m,\u001b[0m \u001b[0max\u001b[0m\u001b[1;33m)\u001b[0m\u001b[1;33m\u001b[0m\u001b[0m\n\u001b[1;32m---> 61\u001b[1;33m     \u001b[0mplot_obj\u001b[0m \u001b[1;33m=\u001b[0m \u001b[0mPLOT_CLASSES\u001b[0m\u001b[1;33m[\u001b[0m\u001b[0mkind\u001b[0m\u001b[1;33m]\u001b[0m\u001b[1;33m(\u001b[0m\u001b[0mdata\u001b[0m\u001b[1;33m,\u001b[0m \u001b[1;33m**\u001b[0m\u001b[0mkwargs\u001b[0m\u001b[1;33m)\u001b[0m\u001b[1;33m\u001b[0m\u001b[0m\n\u001b[0m\u001b[0;32m     62\u001b[0m     \u001b[0mplot_obj\u001b[0m\u001b[1;33m.\u001b[0m\u001b[0mgenerate\u001b[0m\u001b[1;33m(\u001b[0m\u001b[1;33m)\u001b[0m\u001b[1;33m\u001b[0m\u001b[0m\n\u001b[0;32m     63\u001b[0m     \u001b[0mplot_obj\u001b[0m\u001b[1;33m.\u001b[0m\u001b[0mdraw\u001b[0m\u001b[1;33m(\u001b[0m\u001b[1;33m)\u001b[0m\u001b[1;33m\u001b[0m\u001b[0m\n",
      "\u001b[1;32m~\\Anaconda3\\lib\\site-packages\\pandas\\plotting\\_matplotlib\\core.py\u001b[0m in \u001b[0;36m__init__\u001b[1;34m(self, data, x, y, s, c, **kwargs)\u001b[0m\n\u001b[0;32m    928\u001b[0m             \u001b[1;31m# the handling of this argument later\u001b[0m\u001b[1;33m\u001b[0m\u001b[1;33m\u001b[0m\u001b[0m\n\u001b[0;32m    929\u001b[0m             \u001b[0ms\u001b[0m \u001b[1;33m=\u001b[0m \u001b[1;36m20\u001b[0m\u001b[1;33m\u001b[0m\u001b[0m\n\u001b[1;32m--> 930\u001b[1;33m         \u001b[0msuper\u001b[0m\u001b[1;33m(\u001b[0m\u001b[1;33m)\u001b[0m\u001b[1;33m.\u001b[0m\u001b[0m__init__\u001b[0m\u001b[1;33m(\u001b[0m\u001b[0mdata\u001b[0m\u001b[1;33m,\u001b[0m \u001b[0mx\u001b[0m\u001b[1;33m,\u001b[0m \u001b[0my\u001b[0m\u001b[1;33m,\u001b[0m \u001b[0ms\u001b[0m\u001b[1;33m=\u001b[0m\u001b[0ms\u001b[0m\u001b[1;33m,\u001b[0m \u001b[1;33m**\u001b[0m\u001b[0mkwargs\u001b[0m\u001b[1;33m)\u001b[0m\u001b[1;33m\u001b[0m\u001b[0m\n\u001b[0m\u001b[0;32m    931\u001b[0m         \u001b[1;32mif\u001b[0m \u001b[0mis_integer\u001b[0m\u001b[1;33m(\u001b[0m\u001b[0mc\u001b[0m\u001b[1;33m)\u001b[0m \u001b[1;32mand\u001b[0m \u001b[1;32mnot\u001b[0m \u001b[0mself\u001b[0m\u001b[1;33m.\u001b[0m\u001b[0mdata\u001b[0m\u001b[1;33m.\u001b[0m\u001b[0mcolumns\u001b[0m\u001b[1;33m.\u001b[0m\u001b[0mholds_integer\u001b[0m\u001b[1;33m(\u001b[0m\u001b[1;33m)\u001b[0m\u001b[1;33m:\u001b[0m\u001b[1;33m\u001b[0m\u001b[0m\n\u001b[0;32m    932\u001b[0m             \u001b[0mc\u001b[0m \u001b[1;33m=\u001b[0m \u001b[0mself\u001b[0m\u001b[1;33m.\u001b[0m\u001b[0mdata\u001b[0m\u001b[1;33m.\u001b[0m\u001b[0mcolumns\u001b[0m\u001b[1;33m[\u001b[0m\u001b[0mc\u001b[0m\u001b[1;33m]\u001b[0m\u001b[1;33m\u001b[0m\u001b[0m\n",
      "\u001b[1;32m~\\Anaconda3\\lib\\site-packages\\pandas\\plotting\\_matplotlib\\core.py\u001b[0m in \u001b[0;36m__init__\u001b[1;34m(self, data, x, y, **kwargs)\u001b[0m\n\u001b[0;32m    869\u001b[0m         \u001b[1;32mif\u001b[0m \u001b[0mlen\u001b[0m\u001b[1;33m(\u001b[0m\u001b[0mself\u001b[0m\u001b[1;33m.\u001b[0m\u001b[0mdata\u001b[0m\u001b[1;33m[\u001b[0m\u001b[0mx\u001b[0m\u001b[1;33m]\u001b[0m\u001b[1;33m.\u001b[0m\u001b[0m_get_numeric_data\u001b[0m\u001b[1;33m(\u001b[0m\u001b[1;33m)\u001b[0m\u001b[1;33m)\u001b[0m \u001b[1;33m==\u001b[0m \u001b[1;36m0\u001b[0m\u001b[1;33m:\u001b[0m\u001b[1;33m\u001b[0m\u001b[0m\n\u001b[0;32m    870\u001b[0m             \u001b[1;32mraise\u001b[0m \u001b[0mValueError\u001b[0m\u001b[1;33m(\u001b[0m\u001b[0mself\u001b[0m\u001b[1;33m.\u001b[0m\u001b[0m_kind\u001b[0m \u001b[1;33m+\u001b[0m \u001b[1;34m\" requires x column to be numeric\"\u001b[0m\u001b[1;33m)\u001b[0m\u001b[1;33m\u001b[0m\u001b[0m\n\u001b[1;32m--> 871\u001b[1;33m         \u001b[1;32mif\u001b[0m \u001b[0mlen\u001b[0m\u001b[1;33m(\u001b[0m\u001b[0mself\u001b[0m\u001b[1;33m.\u001b[0m\u001b[0mdata\u001b[0m\u001b[1;33m[\u001b[0m\u001b[0my\u001b[0m\u001b[1;33m]\u001b[0m\u001b[1;33m.\u001b[0m\u001b[0m_get_numeric_data\u001b[0m\u001b[1;33m(\u001b[0m\u001b[1;33m)\u001b[0m\u001b[1;33m)\u001b[0m \u001b[1;33m==\u001b[0m \u001b[1;36m0\u001b[0m\u001b[1;33m:\u001b[0m\u001b[1;33m\u001b[0m\u001b[0m\n\u001b[0m\u001b[0;32m    872\u001b[0m             \u001b[1;32mraise\u001b[0m \u001b[0mValueError\u001b[0m\u001b[1;33m(\u001b[0m\u001b[0mself\u001b[0m\u001b[1;33m.\u001b[0m\u001b[0m_kind\u001b[0m \u001b[1;33m+\u001b[0m \u001b[1;34m\" requires y column to be numeric\"\u001b[0m\u001b[1;33m)\u001b[0m\u001b[1;33m\u001b[0m\u001b[0m\n\u001b[0;32m    873\u001b[0m \u001b[1;33m\u001b[0m\u001b[0m\n",
      "\u001b[1;32m~\\Anaconda3\\lib\\site-packages\\pandas\\core\\frame.py\u001b[0m in \u001b[0;36m__getitem__\u001b[1;34m(self, key)\u001b[0m\n\u001b[0;32m   2993\u001b[0m             \u001b[1;32mif\u001b[0m \u001b[0mself\u001b[0m\u001b[1;33m.\u001b[0m\u001b[0mcolumns\u001b[0m\u001b[1;33m.\u001b[0m\u001b[0mnlevels\u001b[0m \u001b[1;33m>\u001b[0m \u001b[1;36m1\u001b[0m\u001b[1;33m:\u001b[0m\u001b[1;33m\u001b[0m\u001b[0m\n\u001b[0;32m   2994\u001b[0m                 \u001b[1;32mreturn\u001b[0m \u001b[0mself\u001b[0m\u001b[1;33m.\u001b[0m\u001b[0m_getitem_multilevel\u001b[0m\u001b[1;33m(\u001b[0m\u001b[0mkey\u001b[0m\u001b[1;33m)\u001b[0m\u001b[1;33m\u001b[0m\u001b[0m\n\u001b[1;32m-> 2995\u001b[1;33m             \u001b[0mindexer\u001b[0m \u001b[1;33m=\u001b[0m \u001b[0mself\u001b[0m\u001b[1;33m.\u001b[0m\u001b[0mcolumns\u001b[0m\u001b[1;33m.\u001b[0m\u001b[0mget_loc\u001b[0m\u001b[1;33m(\u001b[0m\u001b[0mkey\u001b[0m\u001b[1;33m)\u001b[0m\u001b[1;33m\u001b[0m\u001b[0m\n\u001b[0m\u001b[0;32m   2996\u001b[0m             \u001b[1;32mif\u001b[0m \u001b[0mis_integer\u001b[0m\u001b[1;33m(\u001b[0m\u001b[0mindexer\u001b[0m\u001b[1;33m)\u001b[0m\u001b[1;33m:\u001b[0m\u001b[1;33m\u001b[0m\u001b[0m\n\u001b[0;32m   2997\u001b[0m                 \u001b[0mindexer\u001b[0m \u001b[1;33m=\u001b[0m \u001b[1;33m[\u001b[0m\u001b[0mindexer\u001b[0m\u001b[1;33m]\u001b[0m\u001b[1;33m\u001b[0m\u001b[0m\n",
      "\u001b[1;32m~\\Anaconda3\\lib\\site-packages\\pandas\\core\\indexes\\base.py\u001b[0m in \u001b[0;36mget_loc\u001b[1;34m(self, key, method, tolerance)\u001b[0m\n\u001b[0;32m   2897\u001b[0m                 \u001b[1;32mreturn\u001b[0m \u001b[0mself\u001b[0m\u001b[1;33m.\u001b[0m\u001b[0m_engine\u001b[0m\u001b[1;33m.\u001b[0m\u001b[0mget_loc\u001b[0m\u001b[1;33m(\u001b[0m\u001b[0mkey\u001b[0m\u001b[1;33m)\u001b[0m\u001b[1;33m\u001b[0m\u001b[0m\n\u001b[0;32m   2898\u001b[0m             \u001b[1;32mexcept\u001b[0m \u001b[0mKeyError\u001b[0m\u001b[1;33m:\u001b[0m\u001b[1;33m\u001b[0m\u001b[0m\n\u001b[1;32m-> 2899\u001b[1;33m                 \u001b[1;32mreturn\u001b[0m \u001b[0mself\u001b[0m\u001b[1;33m.\u001b[0m\u001b[0m_engine\u001b[0m\u001b[1;33m.\u001b[0m\u001b[0mget_loc\u001b[0m\u001b[1;33m(\u001b[0m\u001b[0mself\u001b[0m\u001b[1;33m.\u001b[0m\u001b[0m_maybe_cast_indexer\u001b[0m\u001b[1;33m(\u001b[0m\u001b[0mkey\u001b[0m\u001b[1;33m)\u001b[0m\u001b[1;33m)\u001b[0m\u001b[1;33m\u001b[0m\u001b[0m\n\u001b[0m\u001b[0;32m   2900\u001b[0m         \u001b[0mindexer\u001b[0m \u001b[1;33m=\u001b[0m \u001b[0mself\u001b[0m\u001b[1;33m.\u001b[0m\u001b[0mget_indexer\u001b[0m\u001b[1;33m(\u001b[0m\u001b[1;33m[\u001b[0m\u001b[0mkey\u001b[0m\u001b[1;33m]\u001b[0m\u001b[1;33m,\u001b[0m \u001b[0mmethod\u001b[0m\u001b[1;33m=\u001b[0m\u001b[0mmethod\u001b[0m\u001b[1;33m,\u001b[0m \u001b[0mtolerance\u001b[0m\u001b[1;33m=\u001b[0m\u001b[0mtolerance\u001b[0m\u001b[1;33m)\u001b[0m\u001b[1;33m\u001b[0m\u001b[0m\n\u001b[0;32m   2901\u001b[0m         \u001b[1;32mif\u001b[0m \u001b[0mindexer\u001b[0m\u001b[1;33m.\u001b[0m\u001b[0mndim\u001b[0m \u001b[1;33m>\u001b[0m \u001b[1;36m1\u001b[0m \u001b[1;32mor\u001b[0m \u001b[0mindexer\u001b[0m\u001b[1;33m.\u001b[0m\u001b[0msize\u001b[0m \u001b[1;33m>\u001b[0m \u001b[1;36m1\u001b[0m\u001b[1;33m:\u001b[0m\u001b[1;33m\u001b[0m\u001b[0m\n",
      "\u001b[1;32mpandas/_libs/index.pyx\u001b[0m in \u001b[0;36mpandas._libs.index.IndexEngine.get_loc\u001b[1;34m()\u001b[0m\n",
      "\u001b[1;32mpandas/_libs/index.pyx\u001b[0m in \u001b[0;36mpandas._libs.index.IndexEngine.get_loc\u001b[1;34m()\u001b[0m\n",
      "\u001b[1;32mpandas/_libs/hashtable_class_helper.pxi\u001b[0m in \u001b[0;36mpandas._libs.hashtable.PyObjectHashTable.get_item\u001b[1;34m()\u001b[0m\n",
      "\u001b[1;32mpandas/_libs/hashtable_class_helper.pxi\u001b[0m in \u001b[0;36mpandas._libs.hashtable.PyObjectHashTable.get_item\u001b[1;34m()\u001b[0m\n",
      "\u001b[1;31mKeyError\u001b[0m: 'Year'"
     ]
    }
   ],
   "source": [
    "df.plot(kind='scatter', x='[+]_Revenue', y='Year', c='red', cmap='coolwarm')\n",
    "\n",
    "\n"
   ]
  }
 ],
 "metadata": {
  "kernelspec": {
   "display_name": "Python 3",
   "language": "python",
   "name": "python3"
  },
  "language_info": {
   "codemirror_mode": {
    "name": "ipython",
    "version": 3
   },
   "file_extension": ".py",
   "mimetype": "text/x-python",
   "name": "python",
   "nbconvert_exporter": "python",
   "pygments_lexer": "ipython3",
   "version": "3.6.5"
  },
  "toc": {
   "base_numbering": 1,
   "nav_menu": {},
   "number_sections": true,
   "sideBar": true,
   "skip_h1_title": false,
   "title_cell": "Table of Contents",
   "title_sidebar": "Contents",
   "toc_cell": false,
   "toc_position": {},
   "toc_section_display": true,
   "toc_window_display": false
  },
  "varInspector": {
   "cols": {
    "lenName": 16,
    "lenType": 16,
    "lenVar": 40
   },
   "kernels_config": {
    "python": {
     "delete_cmd_postfix": "",
     "delete_cmd_prefix": "del ",
     "library": "var_list.py",
     "varRefreshCmd": "print(var_dic_list())"
    },
    "r": {
     "delete_cmd_postfix": ") ",
     "delete_cmd_prefix": "rm(",
     "library": "var_list.r",
     "varRefreshCmd": "cat(var_dic_list()) "
    }
   },
   "types_to_exclude": [
    "module",
    "function",
    "builtin_function_or_method",
    "instance",
    "_Feature"
   ],
   "window_display": false
  }
 },
 "nbformat": 4,
 "nbformat_minor": 2
}
